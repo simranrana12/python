{
  "nbformat": 4,
  "nbformat_minor": 0,
  "metadata": {
    "colab": {
      "provenance": []
    },
    "kernelspec": {
      "name": "python3",
      "display_name": "Python 3"
    },
    "language_info": {
      "name": "python"
    }
  },
  "cells": [
    {
      "cell_type": "code",
      "execution_count": null,
      "metadata": {
        "id": "IBUx0PdgPiDM"
      },
      "outputs": [],
      "source": [
        "import pandas as pd\n",
        "import numpy as np\n"
      ]
    },
    {
      "cell_type": "code",
      "source": [
        "info = np.array(['P','a','n','d','a','s'])"
      ],
      "metadata": {
        "id": "YEgWlE6mQMno"
      },
      "execution_count": null,
      "outputs": []
    },
    {
      "cell_type": "code",
      "source": [
        "a = pd.Series(info)\n"
      ],
      "metadata": {
        "id": "oKOkSVZyQgqD"
      },
      "execution_count": null,
      "outputs": []
    },
    {
      "cell_type": "code",
      "source": [
        "print(a)"
      ],
      "metadata": {
        "colab": {
          "base_uri": "https://localhost:8080/"
        },
        "id": "7pQ0vkjHQsP7",
        "outputId": "17331a19-d1c7-4f3a-bfe2-0fb9aeefbed2"
      },
      "execution_count": null,
      "outputs": [
        {
          "output_type": "stream",
          "name": "stdout",
          "text": [
            "0    P\n",
            "1    a\n",
            "2    n\n",
            "3    d\n",
            "4    a\n",
            "5    s\n",
            "dtype: object\n"
          ]
        }
      ]
    },
    {
      "cell_type": "code",
      "source": [
        "# a list of strings\n",
        "x = ['python','pandas']\n",
        "df = pd.DataFrame(x)\n",
        "print(df)"
      ],
      "metadata": {
        "colab": {
          "base_uri": "https://localhost:8080/"
        },
        "id": "74xWCFXGR2lm",
        "outputId": "de0cadcc-52ec-4362-aae7-991c1d7db67d"
      },
      "execution_count": null,
      "outputs": [
        {
          "output_type": "stream",
          "name": "stdout",
          "text": [
            "        0\n",
            "0  python\n",
            "1  pandas\n"
          ]
        }
      ]
    },
    {
      "cell_type": "code",
      "source": [
        "a = pd.Series(['java','c','c+','np.nan'])\n",
        "a.map({'java':'core'})"
      ],
      "metadata": {
        "id": "NiHYkrWiTlMf"
      },
      "execution_count": null,
      "outputs": []
    },
    {
      "cell_type": "code",
      "source": [
        "a.map({'java':'core','c':'core1'})"
      ],
      "metadata": {
        "id": "ku1m4EwpT_La"
      },
      "execution_count": null,
      "outputs": []
    },
    {
      "cell_type": "code",
      "source": [
        "a.map({'java':'core'})\n",
        "a.map({'c':'core1'})"
      ],
      "metadata": {
        "id": "-34gwfPPUORp"
      },
      "execution_count": null,
      "outputs": []
    },
    {
      "cell_type": "code",
      "source": [
        "b = a.map({'java':\"core\"})\n",
        "b.map('i like{}'.format,na_action='ignore')"
      ],
      "metadata": {
        "id": "KKVrasOEU9JR"
      },
      "execution_count": null,
      "outputs": []
    }
  ]
}