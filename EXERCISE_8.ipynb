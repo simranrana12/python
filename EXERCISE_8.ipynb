{
  "cells": [
    {
      "cell_type": "code",
      "execution_count": null,
      "metadata": {
        "id": "eJ5DIA_aHloJ"
      },
      "outputs": [],
      "source": []
    },
    {
      "cell_type": "code",
      "source": [
        " import numpy as np\n",
        " a = np.array([1, 2, 3]) #create a rank 1 array\n",
        " print(type(a))\n",
        " print(a.shape)\n",
        " print(a[0], a[1], a[2])\n",
        "a[0] = 5\n",
        "print(a)\n",
        "b = np.array([[1,2,3],[4,5,.6]])  # create a rank 2 array\n",
        "print(b.shape)\n",
        "print(b[0, 0], b[0, 1], b[1, 2])\n",
        "# numpy also provides many functions to create arrays:\n",
        "a = np.zeros((2,2)) # create an array of all zeros\n",
        "print(a)\n",
        "\n",
        "b = np.ones((1,2))  #create an array of all ones\n",
        "print(b)\n",
        "\n",
        "c = np.full((2,2),  7)  # create a constant array\n",
        "print(c)\n",
        "\n",
        "d = np.eye(2)  # create a 2x2 identity matrix\n",
        "print(d)\n",
        "\n",
        "e = np.random.random((2,2))  # create an array filled with random values\n",
        "print(e)\n",
        "\n"
      ],
      "metadata": {
        "id": "GD4LDNPbT5N2"
      },
      "execution_count": null,
      "outputs": []
    },
    {
      "cell_type": "markdown",
      "source": [
        "ARRAY INDEXING"
      ],
      "metadata": {
        "id": "-8Xnt98XidDM"
      }
    },
    {
      "cell_type": "code",
      "source": [
        "import numpy as np\n",
        "\"\"\" create the following rank 2 array with shape (3, 4)\n",
        "[[1 2 3 4]\n",
        " [5 6 7 8]\n",
        " [9 10 11 12 ]]\"\"\"\n",
        " a = np.array([[1,2,3,4], [5,6,7,8], [9,10,11,12]])\n",
        "\"\"\" use slicing to pull out the subarray consisting of the first 2 rows and columns 1 and 2; b is the following array of shape (2, 2):\n",
        "[[2 3]\n",
        " [6 7]]\"\"\"\n",
        "b = a[:2, 1:3]\n",
        "\"\"\" a slicing of an array is a view into the same data, so modifying it\n",
        "will modify the original array.\"\"\"\n",
        "print(a[0, 1])\n",
        "b[0, 0] = 77 # b[0, 0] is the same piece of data as a[0, 1]\n",
        "print(a[0, 1])"
      ],
      "metadata": {
        "id": "As3eCGLzibe6"
      },
      "execution_count": null,
      "outputs": []
    },
    {
      "cell_type": "code",
      "source": [
        "a = np.array([[1,2,3,4], [5,6,7,8], [9,10,11,12]])\n",
        "\"\"\" two ways of accessing the data in the middle row of the array.\n",
        " mixing integer indexing with slices yields an array of lower rank,\n",
        " while using only slices yields an array of the same rank as the\n",
        " original array:\"\"\"\n",
        "row_r1 = a[1, :]  # rank 1 view of the second row of a\n",
        "row_r2 = a[:, 1:2] # rank 2 view of the second row of a\n",
        "print(row_r1, row_r1.shape)\n",
        "print(row_r2, row_r2.shape)\n",
        "# we can make the same distinction when accessing columns of an array:\n",
        "col_r1 = a[:, 1]\n",
        "col_r2 = a[:, 1:2]\n",
        "print(col_r1, col_r1.shape)\n",
        "print(col_r2, col_r2.shape)\n",
        "\n"
      ],
      "metadata": {
        "id": "FqtI27GxnH_k"
      },
      "execution_count": null,
      "outputs": []
    },
    {
      "cell_type": "code",
      "source": [
        "import numpy as np\n",
        "a = np.array([[1,2], [3,4], [5,6]])\n",
        "# element from the source array:\n",
        "print(a[[0, 0], [1, 1]])\n",
        "# equivalent to the previous integer array indexing example\n",
        "print(np.array([a[0, 1], a[0, 1]]))\n",
        "a = np.array([[1,2,3], [4,5,6], [7,8,9], [10,11,12]])\n",
        "print(a)\n",
        "\n",
        "# create an array of indices\n",
        "b = np.array([0, 2, 0, 1])\n",
        "print(a[np.arange(4), b])\n",
        "a[np.arange(4), b] +=10\n",
        "print(a)\n",
        "\n"
      ],
      "metadata": {
        "id": "m2D1X9j2r-12"
      },
      "execution_count": null,
      "outputs": []
    },
    {
      "cell_type": "code",
      "source": [
        "import numpy as np\n",
        "a = np.array([[1,2], [3,4], [5,6]])\n",
        "bool_idx = (a > 2)\n",
        "print(bool_idx)\n",
        "print(a[bool_idx])\n",
        "print(a[a > 2])"
      ],
      "metadata": {
        "id": "dJ74dtdZ3P6X"
      },
      "execution_count": null,
      "outputs": []
    },
    {
      "cell_type": "code",
      "source": [
        "# DATATYPES\n",
        "import numpy as np\n",
        "x = np.array([1, 2])\n",
        "print(x.dtype)\n",
        "x = np.array([1.0, 2.0])\n",
        "print(x.dtype)\n",
        "x = np.array([1, 2],  dtype=np.int64)\n",
        "print(x.dtype)"
      ],
      "metadata": {
        "id": "mRMNobWi4Ivu"
      },
      "execution_count": null,
      "outputs": []
    },
    {
      "cell_type": "code",
      "source": [
        "# ARRAY MATH\n",
        "import numpy as np\n",
        "x = np.array([[1,2], [3,4]] , dtype=np.float64)\n",
        "y = np.array([[5,6], [7,8]], dtype=np.float64)\n",
        "print(x + y)\n",
        "print(np.add(x, y))\n",
        "print(x - y)\n",
        "print(np.subtract(x, y))\n",
        "print(x * y)\n",
        "print(np.multiply(x, y))\n",
        "print(x / y)\n",
        "print(np.divide(x, y))\n",
        "print(np.sqrt(x))"
      ],
      "metadata": {
        "id": "SpFzKxJe42vR"
      },
      "execution_count": null,
      "outputs": []
    },
    {
      "cell_type": "code",
      "source": [
        "import numpy as np\n",
        "x = np.array([[1,2], [3,4]])\n",
        "y = np.array([[5,6], [7,8]])\n",
        "v = np.array([9,10])\n",
        "w = np.array([11, 121])\n",
        "#Inner product of vectors; both produce 219\n",
        "print (v.dot (w))\n",
        "print(np.dot (v, w))"
      ],
      "metadata": {
        "id": "tSTkGDlE7vLk"
      },
      "execution_count": null,
      "outputs": []
    },
    {
      "cell_type": "code",
      "source": [
        "# Matrix/vector product; both produce the rank 1 array\n",
        "# [29 67]\n",
        "print (x.dot (v))\n",
        "print (np.dot (x, v))\n",
        "# Matrix matrix product; both produce the rank 2 array\n",
        "# [[19 22]\n",
        "# [43 50]]\n",
        "print (x.dot (y))\n",
        "print (np.dot (x, y))\n",
        "# Numpy provides many useful functions for performing computations on arrays; one of the most useful is sum:\n",
        "import numpy as np\n",
        "np.array([[1,2], [3,4]])\n",
        "print(np.sum (x))\n",
        "# Compute sum of all elements; printa 10\"\n",
        "print (np.sum(x, axis=0))\n",
        "# prints \"(4 6)\"\n",
        "# Compute sum of each column:\n",
        "print(np.sum(x, axis=1))\n",
        "# Compute sum of each row:\n",
        "# prints \"[3 71]\""
      ],
      "metadata": {
        "id": "yZ4V122p9GNP"
      },
      "execution_count": null,
      "outputs": []
    },
    {
      "cell_type": "code",
      "source": [
        "import numpy as np\n",
        "x = np.array([[1,2], [3,4]])\n",
        "print(x)\n",
        "print(x.T)\n",
        "v = np.array([1,2,3])\n",
        "print(v)\n",
        "print(v.T)\n",
        "\n"
      ],
      "metadata": {
        "id": "Nqh4zyVC955p"
      },
      "execution_count": null,
      "outputs": []
    }
  ],
  "metadata": {
    "colab": {
      "provenance": []
    },
    "kernelspec": {
      "display_name": "Python 3",
      "name": "python3"
    },
    "language_info": {
      "name": "python"
    }
  },
  "nbformat": 4,
  "nbformat_minor": 0
}