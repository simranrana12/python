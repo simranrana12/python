{
  "cells": [
    {
      "cell_type": "code",
      "execution_count": 2,
      "metadata": {
        "id": "2eY8W6_YFy-N"
      },
      "outputs": [],
      "source": [
        "\n",
        "# Applied ststistics experiments\n",
        "# Creating series from arrays\n",
        "import pandas as pd\n",
        "import numpy as np"
      ]
    },
    {
      "cell_type": "markdown",
      "metadata": {
        "id": "I9iMk7jgA4Yn"
      },
      "source": [
        "# exercise 1\n"
      ]
    },
    {
      "cell_type": "code",
      "execution_count": null,
      "metadata": {
        "id": "oduqJHThJk6T"
      },
      "outputs": [],
      "source": [
        "arr=np.array(['A','P','P','L','E'])\n",
        "ga=pd.Series(arr)\n",
        "print(ga)"
      ]
    },
    {
      "cell_type": "code",
      "execution_count": null,
      "metadata": {
        "id": "752X22mAKwBi"
      },
      "outputs": [],
      "source": [
        "# Creating a dataframe using list\n",
        "# Creat a list\n",
        "a=['sanoop','simran']\n",
        "#Creat a dataframe\n",
        "df=pd.DataFrame(a)\n",
        "print(df)"
      ]
    },
    {
      "cell_type": "code",
      "execution_count": null,
      "metadata": {
        "id": "ZFjdg2RcL8ty"
      },
      "outputs": [],
      "source": [
        "# using pandas map function\n",
        "a=pd.Series(['sanoop','simran','suaib',])\n",
        "a.map({'sanoop':True,'simran':True})"
      ]
    },
    {
      "cell_type": "code",
      "execution_count": null,
      "metadata": {
        "id": "0V97cmpcPbLN"
      },
      "outputs": [],
      "source": [
        "# ONE ANOTHER EXAMPLE\n",
        "a=pd.Series(['sanoop','simran','suaib',])\n",
        "a.map({'sanoop':True})\n",
        "a.map('i like {}'.format, na_action='ignore')"
      ]
    },
    {
      "cell_type": "code",
      "execution_count": null,
      "metadata": {
        "id": "TZwNYbG2Rdzs"
      },
      "outputs": [],
      "source": [
        "# conversion of series object to the dataframe\n",
        "# example 1\n",
        "g=pd.Series([\"SANOOP\",\"SIMRAN\",\"SUAIB\"],name=\"Row\")\n",
        "g.to_frame()"
      ]
    },
    {
      "cell_type": "code",
      "execution_count": null,
      "metadata": {
        "id": "-WBJx1T1TKG_"
      },
      "outputs": [],
      "source": [
        "# example 2\n",
        "gst=['sanoop','simran','suaib',]\n",
        "id=[111,112,113]\n",
        "gst_series=pd.Series(gst)\n",
        "id_series=pd.Series(id)\n",
        "frame={'Gst':gst_series,'ID':id_series}\n",
        "result=pd.DataFrame(frame)\n",
        "print(result)"
      ]
    },
    {
      "cell_type": "markdown",
      "metadata": {
        "id": "msz8dG6YBFBn"
      },
      "source": [
        "## exercise 2#"
      ]
    },
    {
      "cell_type": "code",
      "execution_count": null,
      "metadata": {
        "id": "cIG8eF_pBfjg"
      },
      "outputs": [],
      "source": [
        "# create an empty dataframe in pandas\n",
        "import pandas as pd\n",
        "df=pd.DataFrame()\n",
        "print(df)"
      ]
    },
    {
      "cell_type": "code",
      "execution_count": null,
      "metadata": {
        "id": "n0cHY7_39dFA"
      },
      "outputs": [],
      "source": [
        "# create a dataframe in pandas on list\n",
        "list=['dalit','devansh']\n",
        "df=pd.DataFrame(list)\n",
        "print(df)"
      ]
    },
    {
      "cell_type": "code",
      "execution_count": null,
      "metadata": {
        "id": "aewkcgy3_ZAM"
      },
      "outputs": [],
      "source": [
        "# create a dataframe from dict of ndarrays/lists\n",
        "info={'ID':[101,102,103],'Department':['B.Sc','B.Tech','M.Tech']}\n",
        "df=pd.DataFrame(info)\n",
        "print(df)"
      ]
    },
    {
      "cell_type": "code",
      "execution_count": null,
      "metadata": {
        "id": "8B5GsFXoAgzO"
      },
      "outputs": [],
      "source": [
        "# craete a DataFrame from dict of series:\n",
        "sr={'one':pd.Series([1,2,3,4,5,6],index=['a','b','c','d','e','f']),'two':pd.Series([1,2,3,4,5,6,7,8],index=['a','b','c','d','e','f','g','h'])}\n",
        "df=pd.DataFrame(sr)\n",
        "print(df)"
      ]
    },
    {
      "cell_type": "code",
      "execution_count": null,
      "metadata": {
        "id": "CUSTs6cDDv2b"
      },
      "outputs": [],
      "source": [
        "# select a column from the dataframe\n",
        "sr={'one':pd.Series([1,2,3,4,5,6],index=['a','b','c','d','e','f']),'two':pd.Series([1,2,3,4,5,6,7,8],index=['a','b','c','d','e','f','g','h'])}\n",
        "df=pd.DataFrame(sr)\n",
        "print(df['one'])"
      ]
    },
    {
      "cell_type": "code",
      "execution_count": null,
      "metadata": {
        "id": "fn6VDlYMEtOQ"
      },
      "outputs": [],
      "source": [
        "# add any new column to an existing DataFrame\n",
        "sr={'one':pd.Series([1,2,3,4,5,6],index=['a','b','c','d','e','f']),'two':pd.Series([1,2,3,4,5,6,7,8],index=['a','b','c','d','e','f','g','h'])}\n",
        "df=pd.DataFrame(sr)\n",
        "# add a new column\n",
        "print(\"add new column by passing series\")\n",
        "df['three']=pd.Series([20,40,60],index=['a','b','c'])\n",
        "print(df)\n",
        "print(\"add new column using existing DataFrame columns\")\n",
        "df['four']=df['one']+df['three']\n",
        "print(df)"
      ]
    },
    {
      "cell_type": "code",
      "execution_count": null,
      "metadata": {
        "id": "f5-JM93_G6su"
      },
      "outputs": [],
      "source": [
        "# deletation of the column from the existing DataFrame\n",
        "sr={'one':pd.Series([1,2],index=['a','b']),'two':pd.Series([1,2,3],index=['a','b','c'])}\n",
        "df=pd.DataFrame(sr)\n",
        "print(\"DataFrame:\")\n",
        "print(df)\n",
        "# using del function\n",
        "print(\"delete the first column:\")\n",
        "del df['one']\n",
        "print(df)\n",
        "# using pop function\n",
        "print(\"delete the another column\")\n",
        "df.pop('two')\n",
        "print(df)"
      ]
    },
    {
      "cell_type": "code",
      "execution_count": null,
      "metadata": {
        "id": "F2uKxsduJFnx"
      },
      "outputs": [],
      "source": [
        "# selection of rows by using different methods\n",
        "# SELECTION BY LABEL\n",
        "import pandas as pd\n",
        "info={'one':pd.Series([1,2,3,4,5],index=['a','b','c','d','e']),'two':pd.Series([1,2,3,4,5,6],index=['a','b','c','d','e','f'])}\n",
        "df=pd.DataFrame(info)\n",
        "print(df.loc['b'])"
      ]
    },
    {
      "cell_type": "code",
      "execution_count": null,
      "metadata": {
        "id": "xYoPXRZjVdB7"
      },
      "outputs": [],
      "source": [
        "# selection by integer location\n",
        "info={'one':pd.Series([1,2,3,4,5],index=['a','b','c','d','e']),'two':pd.Series([1,2,3,4,5,6],index=['a','b','c','d','e','f'])}\n",
        "df=pd.DataFrame(info)\n",
        "print(df.iloc[3])"
      ]
    },
    {
      "cell_type": "code",
      "execution_count": null,
      "metadata": {
        "id": "4f9_qOd7WVq6"
      },
      "outputs": [],
      "source": [
        "# Slice rows\n",
        "info={'one':pd.Series([1,2,3,4,5],index=['a','b','c','d','e']),'two':pd.Series([1,2,3,4,5,6],index=['a','b','c','d','e','f'])}\n",
        "df=pd.DataFrame(info)\n",
        "print(df[2:5])"
      ]
    },
    {
      "cell_type": "code",
      "execution_count": null,
      "metadata": {
        "id": "mmGi9XJ5Wqyx"
      },
      "outputs": [],
      "source": [
        "# Addition of rows\n",
        "import numpy as np\n",
        "import pandas as pd\n",
        "g=pd.DataFrame([[7,8],[9,10]],columns=['x','y'])\n",
        "g2=pd.DataFrame([[11,12],[13,14]],columns=['x','y'])\n",
        "g=g.append(g2)\n",
        "print(g)"
      ]
    },
    {
      "cell_type": "code",
      "execution_count": null,
      "metadata": {
        "id": "LQUZcv06XlTI"
      },
      "outputs": [],
      "source": [
        "# Deletion of rows\n",
        "a_info=pd.DataFrame([[4,5],[6,7]],columns=['x','y'])\n",
        "b_info=pd.DataFrame([[8,9],[10,11]],columns=['x','y'])\n",
        "a_info=a_info.append(b_info)\n",
        "# drop rows with label 0\n",
        "a_info=a_info.drop(0)"
      ]
    },
    {
      "cell_type": "markdown",
      "metadata": {
        "id": "jdoc4IR4hW-4"
      },
      "source": [
        "# exercise 3"
      ]
    },
    {
      "cell_type": "code",
      "execution_count": null,
      "metadata": {
        "id": "cTs9qNk1hdDr"
      },
      "outputs": [],
      "source": [
        "# Add a column to dataframe column\n",
        "aa=pd.read_csv(\"/content/iris.csv\")\n",
        "aa.head()"
      ]
    },
    {
      "cell_type": "code",
      "execution_count": null,
      "metadata": {
        "id": "lNqqIhEijBsM"
      },
      "outputs": [],
      "source": [
        "# Add any new column\n",
        "aa=pd.read_csv(\"/content/iris.csv\")\n",
        "aa[\"Age\"]=\"24\"\n",
        "aa.head()"
      ]
    },
    {
      "cell_type": "code",
      "execution_count": null,
      "metadata": {
        "id": "JSn8wkJHjYYz"
      },
      "outputs": [],
      "source": [
        "aa=pd.read_csv(\"/content/iris.csv\")\n",
        "aa.head()"
      ]
    },
    {
      "cell_type": "code",
      "execution_count": null,
      "metadata": {
        "id": "NJoAJDvgk2VI"
      },
      "outputs": [],
      "source": [
        "# Add a new column name \"course\" into an existing \"aa\" csv file using insert method\n",
        "aa=pd.read_csv(\"/content/iris.csv\")\n",
        "aa.insert(2,column=\"course\",value=\"B.Sc\")\n",
        "aa.head()"
      ]
    },
    {
      "cell_type": "code",
      "execution_count": null,
      "metadata": {
        "id": "zmjoPZ0WnF-t"
      },
      "outputs": [],
      "source": []
    },
    {
      "cell_type": "markdown",
      "metadata": {
        "id": "Lp6KQzK3nH22"
      },
      "source": [
        "# Exercise 5"
      ]
    },
    {
      "cell_type": "code",
      "execution_count": null,
      "metadata": {
        "id": "usUDtcdonQht"
      },
      "outputs": [],
      "source": [
        "# creating index\n",
        "data=pd.read_csv(\"/content/iris.csv\")\n",
        "data"
      ]
    },
    {
      "cell_type": "code",
      "execution_count": null,
      "metadata": {
        "id": "Ha3VCgpHoB8t"
      },
      "outputs": [],
      "source": [
        "# making data frame from csv file\n",
        "info=pd.read_csv(\"/content/iris.csv\",index_col=\"sepal.length\")\n",
        "# retrieving multiple columns by indexing operator\n",
        "a=info[[\"sepal.width\",\"petal.length\"]]\n",
        "print(a)"
      ]
    },
    {
      "cell_type": "code",
      "execution_count": null,
      "metadata": {
        "id": "Rn6QmU0XqtxA"
      },
      "outputs": [],
      "source": [
        "# EXAMPLE 2\n",
        "# making data frame from csv file\n",
        "info=pd.read_csv(\"/content/iris.csv\",index_col=\"sepal.length\")\n",
        "# retrieving multiple columns by indexing operator\n",
        "a=info[[\"sepal.width\"]]\n",
        "print(a)"
      ]
    },
    {
      "cell_type": "code",
      "execution_count": null,
      "metadata": {
        "id": "1XdLZtOSre2P"
      },
      "outputs": [],
      "source": [
        "#set index\n",
        "info=pd.DataFrame({'Name':['sanoop','simran','suaib'],\n",
        "'Year':[2011,1012,2013],\n",
        "'Leaves':[1,2,3]})\n",
        "info\n",
        "info.set_index('Name')\n",
        "info.set_index(['Year','Name'])\n",
        "info.set_index([pd.Index([1,2,3]),'Year'])\n",
        "a=pd.Series([1,2,3])\n",
        "info.set_index([a,a**2])"
      ]
    },
    {
      "cell_type": "code",
      "execution_count": null,
      "metadata": {
        "id": "ZwllsWhvuBdW"
      },
      "outputs": [],
      "source": [
        "#EXAMPLE 1\n",
        "pd.MultiIndex(levels=[[np.nan,None,pd.NaT,128,2]],\n",
        "codes=[[0,-1,1,2,3,4]])\n",
        "\n"
      ]
    },
    {
      "cell_type": "code",
      "execution_count": null,
      "metadata": {
        "id": "VaKTTrCgvDg_"
      },
      "outputs": [],
      "source": [
        "# RESET INDEX\n",
        "info=pd.DataFrame([('sanoop','C'),\n",
        "('simran','Java'),\n",
        "('suaib','Python')],\n",
        "index=[1,2,3],\n",
        "columns=('Name','Language'))\n",
        "info\n",
        "info.reset_index()"
      ]
    },
    {
      "cell_type": "code",
      "execution_count": null,
      "metadata": {
        "id": "XHYMZ7pSweow"
      },
      "outputs": [],
      "source": []
    }
  ],
  "metadata": {
    "colab": {
      "provenance": []
    },
    "kernelspec": {
      "display_name": "Python 3",
      "name": "python3"
    },
    "language_info": {
      "name": "python"
    }
  },
  "nbformat": 4,
  "nbformat_minor": 0
}