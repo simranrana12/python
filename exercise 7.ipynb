{
  "nbformat": 4,
  "nbformat_minor": 0,
  "metadata": {
    "colab": {
      "provenance": []
    },
    "kernelspec": {
      "name": "python3",
      "display_name": "Python 3"
    },
    "language_info": {
      "name": "python"
    }
  },
  "cells": [
    {
      "cell_type": "code",
      "execution_count": 1,
      "metadata": {
        "id": "aC2KCdK6Gy6b"
      },
      "outputs": [],
      "source": [
        "import array"
      ]
    },
    {
      "cell_type": "code",
      "source": [
        "arr=array.array('l',[2,4,6,8,10,12])"
      ],
      "metadata": {
        "id": "2xKneBVCG_w_"
      },
      "execution_count": 2,
      "outputs": []
    },
    {
      "cell_type": "code",
      "source": [
        "#print the original array\n",
        "print(\"New created array\", end=\"\")"
      ],
      "metadata": {
        "colab": {
          "base_uri": "https://localhost:8080/"
        },
        "id": "D7ru3zrCHUWk",
        "outputId": "588fa0e8-4820-4dde-cb58-4ac3fa757272"
      },
      "execution_count": 3,
      "outputs": [
        {
          "output_type": "stream",
          "name": "stdout",
          "text": [
            "New created array"
          ]
        }
      ]
    },
    {
      "cell_type": "code",
      "source": [
        "for l in range(0,5):\n",
        "  print(arr[l],end=\"\")\n",
        "  print('\\r')"
      ],
      "metadata": {
        "colab": {
          "base_uri": "https://localhost:8080/"
        },
        "id": "_v_fnzPtH7wq",
        "outputId": "134a2042-3aff-4c1d-8220-6125aa17d72c"
      },
      "execution_count": 5,
      "outputs": [
        {
          "output_type": "stream",
          "name": "stdout",
          "text": [
            "2\r\n",
            "4\r\n",
            "6\r\n",
            "8\r\n",
            "10\r\n"
          ]
        }
      ]
    },
    {
      "cell_type": "code",
      "source": [
        "import pandas as pd"
      ],
      "metadata": {
        "id": "_gkb0CM9IuEJ"
      },
      "execution_count": 12,
      "outputs": []
    },
    {
      "cell_type": "code",
      "source": [
        "#dictinory of lists\n",
        "dict = {'name':[\"Smith\",\"Willam\",\"Phill\",\"Parker\"],\n",
        "        'age':[\"28\",\"39\",\"34\",\"36\"]}\n",
        ""
      ],
      "metadata": {
        "id": "XZjYcDfjI3MR"
      },
      "execution_count": 16,
      "outputs": []
    },
    {
      "cell_type": "code",
      "source": [
        " info = pd.DataFrame(dict,index = [True, True, False, True])\n",
        "print(info)"
      ],
      "metadata": {
        "colab": {
          "base_uri": "https://localhost:8080/"
        },
        "id": "VdQheg-G_VEE",
        "outputId": "bd8959ee-2929-4e50-e8ec-fc6a83346d4a"
      },
      "execution_count": 18,
      "outputs": [
        {
          "output_type": "stream",
          "name": "stdout",
          "text": [
            "         name age\n",
            "True    Smith  28\n",
            "True   Willam  39\n",
            "False   Phill  34\n",
            "True   Parker  36\n"
          ]
        }
      ]
    },
    {
      "cell_type": "code",
      "source": [
        "# accesing a datafram using .loc[] function\n",
        "print(info.loc[True])\n"
      ],
      "metadata": {
        "colab": {
          "base_uri": "https://localhost:8080/"
        },
        "id": "5ibMRQv-_hoA",
        "outputId": "53c0437e-c2ac-42e1-d124-467fdc596428"
      },
      "execution_count": 19,
      "outputs": [
        {
          "output_type": "stream",
          "name": "stdout",
          "text": [
            "        name age\n",
            "True   Smith  28\n",
            "True  Willam  39\n",
            "True  Parker  36\n"
          ]
        }
      ]
    },
    {
      "cell_type": "code",
      "source": [
        "import numpy as np"
      ],
      "metadata": {
        "id": "hnhb2E66_3iI"
      },
      "execution_count": 22,
      "outputs": []
    },
    {
      "cell_type": "code",
      "source": [
        "\n",
        "arr = np.arange(16)\n",
        "print(\"The original array is:\\n\",arr)\n",
        "#shape array with 2 rows and 8 columns\n",
        "arr = np.arange(16).reshape(2,8)\n",
        "print(\"\\nreshaped array:\\n\",arr)\n",
        "#shape arary with 2 rows and 8 columns\n",
        "arr = np.arange (16).reshape(8,2)\n",
        "print(\"\\nreshaped array:\\n\",arr)\n"
      ],
      "metadata": {
        "colab": {
          "base_uri": "https://localhost:8080/"
        },
        "id": "0jqXLWHVAeX8",
        "outputId": "cbb1c480-bd63-4171-9758-a805dcb59860"
      },
      "execution_count": 28,
      "outputs": [
        {
          "output_type": "stream",
          "name": "stdout",
          "text": [
            "The original array is:\n",
            " [ 0  1  2  3  4  5  6  7  8  9 10 11 12 13 14 15]\n",
            "\n",
            "reshaped array:\n",
            " [[ 0  1  2  3  4  5  6  7]\n",
            " [ 8  9 10 11 12 13 14 15]]\n",
            "\n",
            "reshaped array:\n",
            " [[ 0  1]\n",
            " [ 2  3]\n",
            " [ 4  5]\n",
            " [ 6  7]\n",
            " [ 8  9]\n",
            " [10 11]\n",
            " [12 13]\n",
            " [14 15]]\n"
          ]
        }
      ]
    }
  ]
}